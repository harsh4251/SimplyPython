{
 "cells": [
  {
   "cell_type": "code",
   "execution_count": 4,
   "metadata": {},
   "outputs": [
    {
     "name": "stdout",
     "output_type": "stream",
     "text": [
      "[89.   56.34 76.   89.   98.  ]\n",
      "float64\n"
     ]
    }
   ],
   "source": [
    "import numpy as np\n",
    "scores = [89,56.34,76,89,98]\n",
    "first_arr = np.array(scores)\n",
    "print(first_arr)\n",
    "print(first_arr.dtype)\n"
   ]
  },
  {
   "cell_type": "code",
   "execution_count": 8,
   "metadata": {},
   "outputs": [
    {
     "name": "stdout",
     "output_type": "stream",
     "text": [
      "[[34 56 23 89]\n",
      " [11 45 76 34]]\n",
      "2\n",
      "(2, 4)\n",
      "int64\n"
     ]
    }
   ],
   "source": [
    "import numpy as np\n",
    "scores_1 = [[34,56,23,89],[11,45,76,34]]\n",
    "second_arr = np.array(scores_1)\n",
    "print(second_arr)\n",
    "print(second_arr.ndim)\n",
    "print(second_arr.shape)\n",
    "print(second_arr.dtype)"
   ]
  },
  {
   "cell_type": "code",
   "execution_count": 13,
   "metadata": {},
   "outputs": [
    {
     "name": "stdout",
     "output_type": "stream",
     "text": [
      "[0. 0. 0. 0. 0.]\n",
      "[1. 1. 1. 1. 1. 1. 1. 1. 1. 1.]\n",
      "[ 0  1  2  3  4  5  6  7  8  9 10 11 12 13 14]\n",
      "[[1. 0. 0. 0. 0. 0.]\n",
      " [0. 1. 0. 0. 0. 0.]\n",
      " [0. 0. 1. 0. 0. 0.]\n",
      " [0. 0. 0. 1. 0. 0.]\n",
      " [0. 0. 0. 0. 1. 0.]\n",
      " [0. 0. 0. 0. 0. 1.]]\n"
     ]
    }
   ],
   "source": [
    "import numpy as np\n",
    "x = np.zeros(5)\n",
    "print(x)\n",
    "y= np.ones(10)\n",
    "print(y)\n",
    "arange_arr= np.arange(15)\n",
    "print(arrange_arr)\n",
    "eye_box = np.eye(6) #identical array\n",
    "print(eye_box)"
   ]
  },
  {
   "cell_type": "code",
   "execution_count": 15,
   "metadata": {},
   "outputs": [
    {
     "name": "stdout",
     "output_type": "stream",
     "text": [
      "[ 0  1  2  3  4  5  6  7  8  9 10 11]\n",
      "5\n",
      "[4 5 6 7 8]\n",
      "[ 0  1  2  3 99 99 99 99 99  9 10 11]\n",
      "[     0      1      2      3     99 123456     99     99     99      9\n",
      "     10     11]\n",
      "[    99 123456     99     99     99]\n"
     ]
    }
   ],
   "source": [
    "import numpy as np\n",
    "new_arr = np.arange(12)\n",
    "print(new_arr)\n",
    "print(new_arr[5])\n",
    "print(new_arr[4:9])\n",
    "new_arr[4:9] = 99\n",
    "\n",
    "print(new_arr)\n",
    "modi_arr = new_arr[4:9]\n",
    "modi_arr[1] = 123456\n",
    "print(new_arr)\n",
    "print(modi_arr[:])"
   ]
  },
  {
   "cell_type": "code",
   "execution_count": 28,
   "metadata": {},
   "outputs": [
    {
     "name": "stdout",
     "output_type": "stream",
     "text": [
      "[[3 4 5]\n",
      " [6 7 8]\n",
      " [9 5 1]]\n",
      "[6 7 8]\n",
      "5\n",
      "[[3 4]\n",
      " [6 7]]\n",
      "[[9 5 1]]\n",
      "[[3 4]\n",
      " [6 7]\n",
      " [9 5]]\n",
      "[6 7]\n"
     ]
    }
   ],
   "source": [
    "import numpy as np\n",
    "matrix_arr = np.array([[3,4,5],[6,7,8],[9,5,1]])\n",
    "print(matrix_arr)\n",
    "print(matrix_arr[1])\n",
    "print(matrix_arr[0][2])\n",
    "\n",
    "print(matrix_arr[0:2,0:2])\n",
    "print(matrix_arr[2:,:])\n",
    "print(matrix_arr[:,:2])\n",
    "\n",
    "print(matrix_arr[1,:2])"
   ]
  },
  {
   "cell_type": "code",
   "execution_count": 31,
   "metadata": {},
   "outputs": [
    {
     "name": "stdout",
     "output_type": "stream",
     "text": [
      "[[ 0.32878964  0.36246352  0.35346538 -0.18019016 -2.32579533]\n",
      " [ 0.36407489  0.55091471  1.50225416 -0.90083361  1.99201634]\n",
      " [-0.11191946 -0.4655933   0.55263097 -0.74334257  0.3587802 ]\n",
      " [-1.67908511  1.92402353 -0.67598847  0.64398372 -0.08788437]\n",
      " [ 0.64541026 -1.49560285  0.29868152 -0.98033698  0.56310898]]\n",
      "0.03176102543305793\n",
      "0.03176102543305793\n",
      "0.7940256358264481\n"
     ]
    }
   ],
   "source": [
    "import numpy as np\n",
    "thie = np.random.randn(5,5)\n",
    "print(thie)\n",
    "print(thie.mean())\n",
    "print(np.mean(thie))\n",
    "print(thie.sum())"
   ]
  },
  {
   "cell_type": "code",
   "execution_count": 41,
   "metadata": {},
   "outputs": [
    {
     "name": "stdout",
     "output_type": "stream",
     "text": [
      "The arrays are [[ 0  1  2]\n",
      " [ 3  4  5]\n",
      " [ 6  7  8]\n",
      " [ 9 10 11]]\n",
      "The sum of row are \n",
      "[ 3 12 21 30]\n",
      "[-1.83276182 -1.74390328  0.34130515  0.85228971 -0.04867196  2.27031704\n",
      " -0.36620048 -1.76207639]\n",
      "[-1.83276182 -1.76207639 -1.74390328 -0.36620048 -0.04867196  0.34130515\n",
      "  0.85228971  2.27031704]\n"
     ]
    }
   ],
   "source": [
    "import numpy as np\n",
    "jp = np.arange(12).reshape(4,3)\n",
    "print(\"The arrays are {}\".format(jp))\n",
    "print(\"The sum of row are \".format(np.sum(jp,axis=1)))\n",
    "\n",
    "print(jp.sum(1))\n",
    "lp = np.random.randn(8)\n",
    "print(lp)\n",
    "lp.sort()\n",
    "print(lp)"
   ]
  },
  {
   "cell_type": "code",
   "execution_count": null,
   "metadata": {},
   "outputs": [],
   "source": []
  },
  {
   "cell_type": "code",
   "execution_count": null,
   "metadata": {},
   "outputs": [],
   "source": []
  }
 ],
 "metadata": {
  "kernelspec": {
   "display_name": "Python 2",
   "language": "python",
   "name": "python2"
  },
  "language_info": {
   "codemirror_mode": {
    "name": "ipython",
    "version": 2
   },
   "file_extension": ".py",
   "mimetype": "text/x-python",
   "name": "python",
   "nbconvert_exporter": "python",
   "pygments_lexer": "ipython2",
   "version": "2.7.15"
  }
 },
 "nbformat": 4,
 "nbformat_minor": 2
}
