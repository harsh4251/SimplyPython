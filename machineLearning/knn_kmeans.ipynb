{
 "cells": [
  {
   "cell_type": "code",
   "execution_count": 5,
   "metadata": {},
   "outputs": [
    {
     "data": {
      "image/png": "[encoded data removed]",
      "text/plain": [
       "<matplotlib.figure.Figure at 0x7fb7e81bf2e8>"
      ]
     },
     "metadata": {},
     "output_type": "display_data"
    },
    {
     "name": "stdout",
     "output_type": "stream",
     "text": [
      "[0]\n",
      "[1]\n",
      "[1]\n"
     ]
    }
   ],
   "source": [
    "import pandas as pd\n",
    "import numpy as np\n",
    "import matplotlib.pyplot as plt\n",
    "%matplotlib inline\n",
    "\n",
    "\n",
    "x=-2*np.random.rand(100,2)\n",
    "X1 = 1+2*np.random.rand(50,2)\n",
    "\n",
    "\n",
    "x[50:100,:]=X1\n",
    "plt.scatter(x[:,0], x[:,1], s=50, c='b')\n",
    "plt.show()\n",
    "from sklearn.cluster import KMeans\n",
    "Kmean = KMeans(n_clusters=2)\n",
    "Kmean.fit(x)\n",
    "#print(Kmean.cluster_centers_)\n",
    "#plt.scatter(x[:,0],x[:,1],s=50,c='b')\n",
    "#plt.scatter(*,*, s=200,c='g',marker='s')\n",
    "#plt.scatter(*,*, s=200,c='r',marker='s')\n",
    "#plt.show()\n",
    "#print(Kmean.labels_)\n",
    "\n",
    "test = np.array([4.0,4.0])\n",
    "test1 = test.reshape(1,-1)\n",
    "print(Kmean.predict(test1))\n",
    "\n",
    "test = np.array([-4.0,-4.0])\n",
    "test1 = test.reshape(1,-1)\n",
    "print(Kmean.predict(test1))\n",
    "\n",
    "test = np.array([-1.0,-2.0])\n",
    "test1 = test.reshape(1,-1)\n",
    "print(Kmean.predict(test1))\n",
    "\n"
   ]
  },
  {
   "cell_type": "code",
   "execution_count": 2,
   "metadata": {},
   "outputs": [
    {
     "data": {
      "text/html": [
       "<div>\n",
       "<style scoped>\n",
       "    .dataframe tbody tr th:only-of-type {\n",
       "        vertical-align: middle;\n",
       "    }\n",
       "\n",
       "    .dataframe tbody tr th {\n",
       "        vertical-align: top;\n",
       "    }\n",
       "\n",
       "    .dataframe thead th {\n",
       "        text-align: right;\n",
       "    }\n",
       "</style>\n",
       "<table border=\"1\" class=\"dataframe\">\n",
       "  <thead>\n",
       "    <tr style=\"text-align: right;\">\n",
       "      <th></th>\n",
       "      <th>sepal_length</th>\n",
       "      <th>sepal_width</th>\n",
       "      <th>petal_length</th>\n",
       "      <th>petal_width</th>\n",
       "      <th>class</th>\n",
       "    </tr>\n",
       "  </thead>\n",
       "  <tbody>\n",
       "    <tr>\n",
       "      <th>0</th>\n",
       "      <td>5.1</td>\n",
       "      <td>3.5</td>\n",
       "      <td>1.4</td>\n",
       "      <td>0.2</td>\n",
       "      <td>Iris-setosa</td>\n",
       "    </tr>\n",
       "    <tr>\n",
       "      <th>1</th>\n",
       "      <td>4.9</td>\n",
       "      <td>3.0</td>\n",
       "      <td>1.4</td>\n",
       "      <td>0.2</td>\n",
       "      <td>Iris-setosa</td>\n",
       "    </tr>\n",
       "    <tr>\n",
       "      <th>2</th>\n",
       "      <td>4.7</td>\n",
       "      <td>3.2</td>\n",
       "      <td>1.3</td>\n",
       "      <td>0.2</td>\n",
       "      <td>Iris-setosa</td>\n",
       "    </tr>\n",
       "    <tr>\n",
       "      <th>3</th>\n",
       "      <td>4.6</td>\n",
       "      <td>3.1</td>\n",
       "      <td>1.5</td>\n",
       "      <td>0.2</td>\n",
       "      <td>Iris-setosa</td>\n",
       "    </tr>\n",
       "    <tr>\n",
       "      <th>4</th>\n",
       "      <td>5.0</td>\n",
       "      <td>3.6</td>\n",
       "      <td>1.4</td>\n",
       "      <td>0.2</td>\n",
       "      <td>Iris-setosa</td>\n",
       "    </tr>\n",
       "  </tbody>\n",
       "</table>\n",
       "</div>"
      ],
      "text/plain": [
       "   sepal_length  sepal_width  petal_length  petal_width        class\n",
       "0           5.1          3.5           1.4          0.2  Iris-setosa\n",
       "1           4.9          3.0           1.4          0.2  Iris-setosa\n",
       "2           4.7          3.2           1.3          0.2  Iris-setosa\n",
       "3           4.6          3.1           1.5          0.2  Iris-setosa\n",
       "4           5.0          3.6           1.4          0.2  Iris-setosa"
      ]
     },
     "execution_count": 2,
     "metadata": {},
     "output_type": "execute_result"
    }
   ],
   "source": [
    "import pandas as pd\n",
    "# define column names\n",
    "names = ['sepal_length', 'sepal_width', 'petal_length', 'petal_width', 'class']\n",
    "# loading training data\n",
    "df = pd.read_csv('/home/harsh/pythonClass/machineLearningPython/iris.data.txt', header=None, names=names)\n",
    "df.head()\n"
   ]
  },
  {
   "cell_type": "code",
   "execution_count": 11,
   "metadata": {},
   "outputs": [
    {
     "name": "stdout",
     "output_type": "stream",
     "text": [
      "accuracy_score : 0.98,K-value : 1\n",
      "accuracy_score : 0.98,K-value : 2\n",
      "accuracy_score : 0.98,K-value : 3\n",
      "accuracy_score : 0.98,K-value : 4\n",
      "accuracy_score : 0.98,K-value : 5\n",
      "accuracy_score : 0.98,K-value : 6\n",
      "accuracy_score : 0.98,K-value : 7\n",
      "accuracy_score : 0.98,K-value : 8\n",
      "accuracy_score : 0.98,K-value : 9\n",
      "accuracy_score : 0.98,K-value : 10\n",
      "accuracy_score : 1.0,K-value : 11\n",
      "accuracy_score : 1.0,K-value : 12\n",
      "accuracy_score : 1.0,K-value : 13\n",
      "accuracy_score : 1.0,K-value : 14\n",
      "accuracy_score : 1.0,K-value : 15\n",
      "accuracy_score : 1.0,K-value : 16\n",
      "accuracy_score : 1.0,K-value : 17\n",
      "accuracy_score : 1.0,K-value : 18\n",
      "accuracy_score : 1.0,K-value : 19\n",
      "accuracy_score : 1.0,K-value : 20\n",
      "accuracy_score : 1.0,K-value : 21\n",
      "accuracy_score : 0.98,K-value : 22\n",
      "accuracy_score : 1.0,K-value : 23\n",
      "accuracy_score : 0.98,K-value : 24\n",
      "accuracy_score : 1.0,K-value : 25\n",
      "accuracy_score : 1.0,K-value : 26\n",
      "accuracy_score : 1.0,K-value : 27\n",
      "accuracy_score : 0.98,K-value : 28\n",
      "accuracy_score : 1.0,K-value : 29\n"
     ]
    }
   ],
   "source": [
    "import numpy as np\n",
    "from sklearn.model_selection import train_test_split\n",
    "\n",
    "# create design matrix X and target vector y\n",
    "X = np.array(df.iloc[:, 0:4]) \t# end index is exclusive , iloc method is used for splitting\n",
    "y = np.array(df['class']) \t# another way of indexing a pandas df\n",
    "\n",
    "# split into train and test\n",
    "X_train, X_test, y_train, y_test = train_test_split(X, y, test_size=0.33, random_state=42)\n",
    "# loading library\n",
    "from sklearn.neighbors import KNeighborsClassifier\n",
    "# instantiate learning model (k = 3)\n",
    "for k in range(1,30):\n",
    "    knn = KNeighborsClassifier(n_neighbors=k)\n",
    "    # fitting the model\n",
    "    knn.fit(X_train, y_train)\n",
    "    # predict the response\n",
    "    pred = knn.predict(X_test)\n",
    "    # evaluate accuracy\n",
    "    from sklearn.metrics import accuracy_score\n",
    "    #print(accuracy_score(y_test, pred))\n",
    "    print(\"accuracy_score : {},K-value : {}\".format(accuracy_score(y_test, pred),k))\n",
    "\n",
    "li = [6.3,2.5,5.0,1.9]\n",
    "x = np.array(li)\n",
    "pred = knn.predict([x])"
   ]
  },
  {
   "cell_type": "code",
   "execution_count": null,
   "metadata": {},
   "outputs": [],
   "source": []
  }
 ],
 "metadata": {
  "anaconda-cloud": {},
  "kernelspec": {
   "display_name": "Python 3",
   "language": "python",
   "name": "python3"
  },
  "language_info": {
   "codemirror_mode": {
    "name": "ipython",
    "version": 3
   },
   "file_extension": ".py",
   "mimetype": "text/x-python",
   "name": "python",
   "nbconvert_exporter": "python",
   "pygments_lexer": "ipython3",
   "version": "3.6.7"
  }
 },
 "nbformat": 4,
 "nbformat_minor": 1
}
